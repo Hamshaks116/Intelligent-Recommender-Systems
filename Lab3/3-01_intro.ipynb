{
 "cells": [
  {
   "cell_type": "markdown",
   "metadata": {},
   "source": [
    "<div align=\"center\"><img src=\"./images/DLI_Header.png\"></div>"
   ]
  },
  {
   "cell_type": "markdown",
   "metadata": {},
   "source": [
    "# Production Recommender Systems"
   ]
  },
  {
   "cell_type": "markdown",
   "metadata": {},
   "source": [
    "Now that we've mastered the theory, it's time to put it into practice. This lab can be broken down into the following three sections:\n",
    "\n",
    "- *Scaling Applications with Docker*\n",
    "- *Multi-Container Deployment with Docker Compose and Triton*\n",
    "- *Project: Build an End-to-End Recommender System*"
   ]
  },
  {
   "cell_type": "markdown",
   "metadata": {},
   "source": [
    "#### Scaling Applications with Docker"
   ]
  },
  {
   "cell_type": "markdown",
   "metadata": {},
   "source": [
    "Go over the Docker environment used to build this course, and how to use it to scale a model to multiple machines."
   ]
  },
  {
   "cell_type": "markdown",
   "metadata": {},
   "source": [
    "#### Multi-Container Deployment with Docker Compose and Triton"
   ]
  },
  {
   "cell_type": "markdown",
   "metadata": {},
   "source": [
    "Learn how to deploy interdependent Docker containers in order to productionize a Wide & Deep model with NVIDIA Triton Inference Server."
   ]
  },
  {
   "cell_type": "markdown",
   "metadata": {},
   "source": [
    "#### Project: Build an End-to-End Recommender System"
   ]
  },
  {
   "cell_type": "markdown",
   "metadata": {},
   "source": [
    "Now that we've learned all the pieces, it's time to put them together. Use ALS to generate candidates for a Wide & Deep Neural Network."
   ]
  },
  {
   "cell_type": "markdown",
   "metadata": {},
   "source": [
    "## Table of Contents for Section 1"
   ]
  },
  {
   "cell_type": "markdown",
   "metadata": {},
   "source": [
    "**[3-01_intro.ipynb](3-01_intro.ipynb)**: This notebook.\n",
    "\n",
    "**[3-02_docker.ipynb](3-02_docker.ipynb)**: Package applications for portability with Docker.\n",
    "\n",
    "**[3-03_triton.ipynb](3-03_triton.ipynb)**: Take Docker to the next level with multi-container deployment for a production system.\n",
    "\n",
    "**[3-04_assessment.ipynb](3-04_assessment.ipynb)**: Earn a certificate for completing this course!"
   ]
  }
 ],
 "metadata": {
  "kernelspec": {
   "display_name": "Python 3",
   "language": "python",
   "name": "python3"
  },
  "language_info": {
   "codemirror_mode": {
    "name": "ipython",
    "version": 3
   },
   "file_extension": ".py",
   "mimetype": "text/x-python",
   "name": "python",
   "nbconvert_exporter": "python",
   "pygments_lexer": "ipython3",
   "version": "3.8.5"
  }
 },
 "nbformat": 4,
 "nbformat_minor": 4
}
