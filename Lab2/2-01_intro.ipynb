{
 "cells": [
  {
   "cell_type": "markdown",
   "metadata": {},
   "source": [
    "<div align=\"center\"><a href=\"https://www.nvidia.com/en-us/deep-learning-ai/education/\"><img src=\"./images/DLI_Header.png\"></a></div>"
   ]
  },
  {
   "cell_type": "markdown",
   "metadata": {},
   "source": [
    "# Building Intelligent Recommender Systems"
   ]
  },
  {
   "cell_type": "markdown",
   "metadata": {},
   "source": [
    "In this workshop we will use [TensorFlow 2](https://www.tensorflow.org/guide/effective_tf2) and [CuPy](https://cupy.chainer.org/), a NumPy like library designed to work with GPUs, in order to build a production level Recommender System. To go from theory to practice, this workshop will be broken down into three sections:\n",
    "\n",
    "- *Matrix-Based Recommender Systems*\n",
    "- *Wide & Deep Recommenders*\n",
    "- *Recommender Systems in Production*"
   ]
  },
  {
   "cell_type": "markdown",
   "metadata": {},
   "source": [
    "## Matrix-Based Recommender Systems"
   ]
  },
  {
   "cell_type": "markdown",
   "metadata": {},
   "source": [
    "Use [CuPy](https://cupy.chainer.org/) to build content-based and collaborative filtering recommender systems."
   ]
  },
  {
   "cell_type": "markdown",
   "metadata": {},
   "source": [
    "## Wide & Deep Recommenders"
   ]
  },
  {
   "cell_type": "markdown",
   "metadata": {},
   "source": [
    "Build a data pipeline with [NVIDIA Merlin dataloader](https://developer.nvidia.com/nvidia-merlin) in order to construct a Wide & Deep architecture with [TensorFlow 2](https://www.tensorflow.org/guide/effective_tf2)."
   ]
  },
  {
   "cell_type": "markdown",
   "metadata": {},
   "source": [
    "## Recommender Systems in Production"
   ]
  },
  {
   "cell_type": "markdown",
   "metadata": {},
   "source": [
    "Meet customer demand for quick recommendations using the [NVIDIA Triton Inference Server](https://developer.nvidia.com/nvidia-triton-inference-server)."
   ]
  },
  {
   "cell_type": "markdown",
   "metadata": {},
   "source": [
    "## Table of Contents for Section 2"
   ]
  },
  {
   "cell_type": "markdown",
   "metadata": {},
   "source": [
    "**[2-01_intro.ipynb](2-01_intro.ipynb)**: This notebook.\n",
    "\n",
    "**[2-02_dataloader.ipynb](2-02_dataloader.ipynb)**: Learn about [NVIDIA Merlin dataloader](https://developer.nvidia.com/nvidia-merlin).\n",
    "\n",
    "**[2-03_deep_nn.ipynb](2-03_deep_nn.ipynb)**: Learn how to build a deep neural network architecture with TensorFlow 2.\n",
    "\n",
    "**[2-04_wide_and_deep.ipynb](2-04_wide_and_deep.ipynb)**: Bring all of the above together in a Wide & Deep architecture."
   ]
  },
  {
   "cell_type": "markdown",
   "metadata": {},
   "source": [
    "<div align=\"center\"><a href=\"https://www.nvidia.com/en-us/deep-learning-ai/education/\"><img src=\"./images/DLI_Header.png\"></a></div>"
   ]
  }
 ],
 "metadata": {
  "kernelspec": {
   "display_name": "Python 3",
   "language": "python",
   "name": "python3"
  },
  "language_info": {
   "codemirror_mode": {
    "name": "ipython",
    "version": 3
   },
   "file_extension": ".py",
   "mimetype": "text/x-python",
   "name": "python",
   "nbconvert_exporter": "python",
   "pygments_lexer": "ipython3",
   "version": "3.8.5"
  }
 },
 "nbformat": 4,
 "nbformat_minor": 4
}
