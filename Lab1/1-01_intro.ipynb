{
 "cells": [
  {
   "cell_type": "markdown",
   "metadata": {},
   "source": [
    "<div align=\"center\"><a href=\"https://www.nvidia.com/en-us/deep-learning-ai/education/\"><img src=\"./images/DLI_Header.png\"></a></div>"
   ]
  },
  {
   "cell_type": "markdown",
   "metadata": {},
   "source": [
    "# Building Intelligent Recommender Systems"
   ]
  },
  {
   "cell_type": "markdown",
   "metadata": {},
   "source": [
    "In this workshop, we will use [TensorFlow 2](https://www.tensorflow.org/guide/effective_tf2) and [CuPy](https://cupy.chainer.org/), a NumPy like library designed to work with GPUs, to build a production-level recommender system. To go from theory to practice, this workshop is broken down into three sections:\n",
    "\n",
    "- *Matrix-Based Recommender Systems*\n",
    "- *Wide & Deep Recommenders*\n",
    "- *Recommender Systems in Production*"
   ]
  },
  {
   "cell_type": "markdown",
   "metadata": {},
   "source": [
    "#### Matrix-Based Recommender Systems"
   ]
  },
  {
   "cell_type": "markdown",
   "metadata": {},
   "source": [
    "Use [CuPy](https://cupy.chainer.org/) to build content-based and collaborative filtering recommender systems."
   ]
  },
  {
   "cell_type": "markdown",
   "metadata": {},
   "source": [
    "#### Wide & Deep Recommenders"
   ]
  },
  {
   "cell_type": "markdown",
   "metadata": {},
   "source": [
    "Build a data pipeline with [tf.data](https://www.tensorflow.org/guide/data) in order to construct a Wide & Deep architecture with [TensorFlow 2](https://www.tensorflow.org/guide/effective_tf2)."
   ]
  },
  {
   "cell_type": "markdown",
   "metadata": {},
   "source": [
    "### Recommender Systems in Production"
   ]
  },
  {
   "cell_type": "markdown",
   "metadata": {},
   "source": [
    "Meet customer demand for quick recommendations using the [NVIDIA Triton Inference Server](https://developer.nvidia.com/nvidia-triton-inference-server)."
   ]
  },
  {
   "cell_type": "markdown",
   "metadata": {},
   "source": [
    "## Table of Contents for Section 1"
   ]
  },
  {
   "cell_type": "markdown",
   "metadata": {},
   "source": [
    "[**1-01_intro.ipynb**](1-01_intro.ipynb): This notebook.\n",
    "\n",
    "[**1-02_environment.ipynb**](1-02_environment.ipynb): Learn the Jupyter interactive coding environment.\n",
    "\n",
    "[**1-03_content_based_intro.ipynb**](1-03_content_based_intro.ipynb): Get used to content-based filters with a toy problem.\n",
    "\n",
    "[**1-04_content_based_real_data.ipynb**](1-04_content_based_real_data.ipynb): Build a content-based recommender system with the Amazon dataset.\n",
    "\n",
    "[**1-05_als_intro.ipynb**](1-05_als_intro.ipynb): Get used to matrix factorization with a toy problem.\n",
    "\n",
    "[**1-06_als_real_data.ipynb**](1-06_als_real_data.ipynb): Build a matrix factorization recommender system with the Amazon dataset."
   ]
  },
  {
   "cell_type": "markdown",
   "metadata": {},
   "source": [
    "<div align=\"center\"><a href=\"https://www.nvidia.com/en-us/deep-learning-ai/education/\"><img src=\"./images/DLI_Header.png\"></a></div>"
   ]
  }
 ],
 "metadata": {
  "kernelspec": {
   "display_name": "Python 3",
   "language": "python",
   "name": "python3"
  },
  "language_info": {
   "codemirror_mode": {
    "name": "ipython",
    "version": 3
   },
   "file_extension": ".py",
   "mimetype": "text/x-python",
   "name": "python",
   "nbconvert_exporter": "python",
   "pygments_lexer": "ipython3",
   "version": "3.7.8"
  }
 },
 "nbformat": 4,
 "nbformat_minor": 4
}
